{
 "cells": [
  {
   "cell_type": "code",
   "execution_count": 1,
   "metadata": {
    "collapsed": true
   },
   "outputs": [],
   "source": [
    "import numpy as np\n",
    "import matplotlib.pyplot as plt\n",
    "import pandas as pd"
   ]
  },
  {
   "cell_type": "code",
   "execution_count": 6,
   "metadata": {
    "collapsed": true
   },
   "outputs": [],
   "source": [
    "%matplotlib inline"
   ]
  },
  {
   "cell_type": "code",
   "execution_count": 4,
   "metadata": {
    "collapsed": true
   },
   "outputs": [],
   "source": [
    "def select_other(excluded_elements, all_elements):\n",
    "    \"\"\"\n",
    "    excluded_elements, all_elements: two sets\n",
    "    Return one element of (all_elements - excluded_elements) at random\n",
    "    \"\"\"\n",
    "    remaining_elements = all_elements - excluded_elements\n",
    "    selected_element = np.random.choice(list(remaining_elements), 1)[0]\n",
    "    return selected_element  "
   ]
  },
  {
   "cell_type": "markdown",
   "metadata": {},
   "source": [
    "# Monty Hall"
   ]
  },
  {
   "cell_type": "markdown",
   "metadata": {},
   "source": [
    "## Problem"
   ]
  },
  {
   "cell_type": "markdown",
   "metadata": {},
   "source": [
    "The original problem description, as it appears on [Marilyn vos Savant's website](http://marilynvossavant.com/game-show-problem/):\n",
    "\n",
    "> Suppose you’re on a game show, and you’re given the choice of three doors. Behind one door is a car, behind the others, goats. You pick a door, say \\#1, and the host, who knows what’s behind the doors, opens another door, say \\#3, which has a goat. He says to you, \"Do you want to pick door \\#2?\" Is it to your advantage to switch your choice of doors?\n",
    "\n",
    "The answer is 'yes'. For more information on the problem, you can see its entry on [Wikipedia](https://en.wikipedia.org/wiki/Monty_Hall_problem)."
   ]
  },
  {
   "cell_type": "markdown",
   "metadata": {},
   "source": [
    "## Simulation"
   ]
  },
  {
   "cell_type": "code",
   "execution_count": 45,
   "metadata": {
    "collapsed": false
   },
   "outputs": [
    {
     "data": {
      "image/png": "[encoded data removed]",
      "text/plain": [
       "<matplotlib.figure.Figure at 0x108415240>"
      ]
     },
     "metadata": {},
     "output_type": "display_data"
    }
   ],
   "source": [
    "N = 10000 # we repeat the simulation N times\n",
    "\n",
    "# there are three doors, numbered #1, #2, #3\n",
    "doors = {1, 2, 3}\n",
    "# exactly one of them contains the car\n",
    "door_with_car = np.random.choice(list(doors), N)\n",
    "\n",
    "# player makes a first guess about the door that contains the car\n",
    "first_guess = np.random.choice(list(doors), N)\n",
    "\n",
    "# host opens a door that does not contain the car\n",
    "# and is different than player's guess\n",
    "revealed_door = [select_other({first_guess[pos], door_with_car[pos]}, doors) for pos in range(N)]\n",
    "\n",
    "# player follows one of two strategies:\n",
    "# either sticks to first guess\n",
    "second_guess_A = first_guess\n",
    "# or switches to the remaining door\n",
    "# (other than first guess and revealed door)\n",
    "second_guess_B = [select_other({first_guess[pos], revealed_door[pos]}, doors) for pos in range(N)]\n",
    "\n",
    "# calculate the success rate for each strategy\n",
    "success_rate_A = sum(second_guess_A == door_with_car) / N\n",
    "success_rate_B = sum(second_guess_B == door_with_car) / N\n",
    "\n",
    "fig, ax = plt.subplots(figsize = (8, 5))\n",
    "ax.set(xlim = (-1, 2), xticks = [0, 1], yticks = [100*success_rate_A, 100*success_rate_B, 100], ylim = (0, 100))\n",
    "ax.set_title(\"Success rate (%)\", size = 20)\n",
    "ax.set_xticklabels([\"A\", \"B\"], size = 18)\n",
    "ax.set_xlabel(\"Strategy\", size = 19)\n",
    "ax.set_yticklabels([\"{:.1f}\".format(100*success_rate_A), \"{:.1f}\".format(100*success_rate_B), \"100\"], size = 16)\n",
    "_tmp = ax.bar([0], [100*success_rate_A], width = 0.5, align = \"center\", color = \"blue\")\n",
    "_tmp = ax.bar([1], [100*success_rate_B], width = 0.5, align = \"center\", color = \"gold\")"
   ]
  },
  {
   "cell_type": "markdown",
   "metadata": {},
   "source": [
    "# Bertrand's Box Paradox"
   ]
  },
  {
   "cell_type": "markdown",
   "metadata": {},
   "source": []
  },
  {
   "cell_type": "markdown",
   "metadata": {},
   "source": [
    "# Three Prisoners Problem\n",
    "[Wikipedia](https://en.wikipedia.org/wiki/Three_Prisoners_problem)"
   ]
  },
  {
   "cell_type": "markdown",
   "metadata": {},
   "source": []
  }
 ],
 "metadata": {
  "kernelspec": {
   "display_name": "Python 3",
   "language": "python",
   "name": "python3"
  },
  "language_info": {
   "codemirror_mode": {
    "name": "ipython",
    "version": 3
   },
   "file_extension": ".py",
   "mimetype": "text/x-python",
   "name": "python",
   "nbconvert_exporter": "python",
   "pygments_lexer": "ipython3",
   "version": "3.4.3"
  }
 },
 "nbformat": 4,
 "nbformat_minor": 0
}
