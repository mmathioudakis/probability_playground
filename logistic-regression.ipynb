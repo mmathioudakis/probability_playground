{
 "cells": [
  {
   "cell_type": "markdown",
   "metadata": {},
   "source": [
    "# Logistic regression\n",
    "\n",
    "## Model\n",
    "\n",
    "Each data point is associated with values $X_1 = x_1, X_2 = x_2, \\ldots, X_m = x_m \\in\\mathbb{R}$ for  features $X_1$, $X_2$, $\\ldots$, $X_m$. It is also associated with a value $Y = y \\in \\{0,1\\}$ for binary variable $Y$. For a given data point, we are interested in predicting the value of $Y$ given the values of $X_1$, $X_2$, $\\ldots$, $X_m$.\n",
    "\n",
    "To perform that task, we employ a model to express the probability\n",
    "$$p_y(\\mathbf{x}) = P(Y = y\\;|\\;\\mathbf{X} = \\mathbf{x}) = P(Y = y \\; | \\; X_1 = x_1, X_2 = x_2, \\ldots, X_m = x_m).$$\n",
    "\n",
    "In the case of `logistic regression`, the model defines that probability as follows.\n",
    "\n",
    "$$p_1(\\mathbf{x}) = 1/(1 + e^{-\\beta(\\mathbf{x})})$$\n",
    "\n",
    "$$p_0(\\mathbf{x}) = 1 - p_1(\\mathbf{x}) = 1/(1 + e^{+\\beta(\\mathbf{x})})$$\n",
    "\n",
    "$$\\beta(\\mathbf{x}) = \\beta_0 + \\beta_1 x_1 + \\beta_2 x_2 + \\ldots + \\beta_m x_m$$\n",
    "\n",
    "It follows that\n",
    "\n",
    "$$\\log(p_1/p_0) = \\beta(\\mathbf{x}) $$"
   ]
  },
  {
   "cell_type": "markdown",
   "metadata": {},
   "source": [
    "## Likelihood and A-posteriori Probability\n",
    "\n",
    "Given an instance LR = LR(\\beta('mathbf{x})) of Logistic Regression, what is the log-likelihood of a dataset (i.e., set of data points) $\\mathbb{D}$?\n",
    "\n",
    "$ \\log L(D;LR) = \\log P(\\mathbb{D}\\;|\\;LR, I) = \\sum _{d\\in\\mathbb{D}:Y=1}{\\log(p_1)} + \\sum _{d\\in\\mathbb{D}:Y=0}{\\log(p_0)} = $\n",
    "\n",
    "$= -\\sum_{d:Y=1}{\\log(1 + e^{-\\beta(\\mathbf{x}_d)})} - \\sum _{d:Y=0}{\\log(1 + e^{\\beta(\\mathbf{x_d})})}$\n",
    "\n",
    "$= -\\sum_{d}{\\log(1 + e^{(1 - 2y_d)\\beta(\\mathbf{x}_d)})}$\n",
    "\n",
    "With the same zero-mean Gaussian prior on the values of the beta parameters, the a-posteriori probability takes the following form.\n",
    "\n",
    "$\\log P(\\mathbb{D},\\ LR|\\; I) = -\\sum_{d}{\\log(1 + e^{(1 - 2y_d)\\beta(\\mathbf{x}_d)})} - \\lambda \\sum_{i=0}^{m}\\beta_i^2,\\;\\; \\lambda > 0$"
   ]
  },
  {
   "cell_type": "markdown",
   "metadata": {},
   "source": [
    "## Maximizing A-posteriory Probability\n",
    "\n",
    "To optimize log-likelihood in terms of parameters $\\beta$, we take it's derivative w.r.t. the same parameters.\n",
    "\n",
    "$\\frac{d\\log L(D;LR)}{d\\beta_0} = \\sum_{d: Y=1}{\\frac{1}{1 + e^{\\beta(\\mathbf{x_d})}}} - \\sum_{d: Y=0}{\\frac{1}{1 + e^{-\\beta(\\mathbf{x_d})}}}$\n",
    "\n",
    "$\\frac{d\\log L(D;LR)}{d\\beta_i} = \\sum_{d: Y=1}{\\frac{1}{1 + e^{\\beta(\\mathbf{x_d})}}\\mathbf{x_d}(i)}  - \\sum_{d: Y=0}{\\frac{1}{1 + e^{-\\beta(\\mathbf{x_d})}}\\mathbf{x_d}(i)}$\n"
   ]
  },
  {
   "cell_type": "markdown",
   "metadata": {},
   "source": [
    "Note that $(1 + e^{\\beta(\\mathbf{x})})^{-1} = p_0(\\mathbf{x}) = 1 - p_1(\\mathbf{x})$ and $(1 + e^{-\\beta(\\mathbf{x})})^{-1} = p_1(\\mathbf{x})$, therefore the previous formulas can be written as\n",
    "\n",
    "$\\frac{d\\log L(D;LR)}{d\\beta_0} = \\sum_{d: Y=1}{(1 - p_1(\\mathbf{x_d}))} + \\sum_{d: Y=0}{(0 - p_1(\\mathbf{x_d}))}\n",
    "= \\sum_{d}{(y - p_{1}(\\mathbf{x_d}))} $\n",
    "\n",
    "$\\frac{d\\log L(D;LR)}{d\\beta_i} = \\sum_{d: Y=1}{(1 - p_1(\\mathbf{x_d}))\\cdot\\mathbf{x_d}(i)}  + \\sum_{d: Y=0}{(0 - p_1(\\mathbf{x_d}))\\cdot\\mathbf{x_d}(i)} = \\sum_d {{(y - p_{1}(\\mathbf{x_d}))} \\cdot\\mathbf{x_d}(i)} $"
   ]
  },
  {
   "cell_type": "markdown",
   "metadata": {},
   "source": [
    "We can employ, then, gradient ascent.\n",
    "\n",
    "For each data point $\\mathbf{x}$, we update parameters $\\mathbf{\\beta} = [\\beta_0, \\beta_1, \\beta_2, \\ldots, \\beta_m]$ as follows.\n",
    "\n",
    "$$\\mathbf{\\beta} := \\mathbf{\\beta} + \\alpha \\cdot (y - p_1) [1, x_1, x_2, \\ldots, x_m], \\ \\alpha > 0$$"
   ]
  },
  {
   "cell_type": "markdown",
   "metadata": {},
   "source": [
    "To maximize the a-posteriory probability under the previously defined priors,\n",
    "the updates change to \n",
    "$$\\mathbf{\\beta} := \\mathbf{\\beta} + \\alpha \\cdot (y - p_1) [1, x_1, x_2, \\ldots, x_m] - 2\\lambda\\cdot \\mathbf{\\beta}, \\ \\alpha > 0$$"
   ]
  },
  {
   "cell_type": "code",
   "execution_count": 417,
   "metadata": {
    "collapsed": true
   },
   "outputs": [],
   "source": [
    "import pyspark\n",
    "import numpy as np\n",
    "import scipy.stats as stats\n",
    "\n",
    "import matplotlib.pyplot as plt"
   ]
  },
  {
   "cell_type": "code",
   "execution_count": 420,
   "metadata": {
    "collapsed": true
   },
   "outputs": [],
   "source": [
    "%matplotlib inline"
   ]
  },
  {
   "cell_type": "code",
   "execution_count": null,
   "metadata": {
    "collapsed": false,
    "scrolled": true
   },
   "outputs": [],
   "source": [
    "sc = pyspark.SparkContext()"
   ]
  },
  {
   "cell_type": "markdown",
   "metadata": {},
   "source": [
    "## Generating synthetic data "
   ]
  },
  {
   "cell_type": "code",
   "execution_count": 578,
   "metadata": {
    "collapsed": false
   },
   "outputs": [],
   "source": [
    "def make_data(beta, N = 1000):\n",
    "\n",
    "    m = len(beta) - 1\n",
    "    x = np.column_stack((np.ones(N), -3 + 8. * np.random.rand(N, m)))\n",
    "#     x = np.column_stack((np.ones(N), np.linspace(-2, 2, N)))\n",
    "\n",
    "    logit = np.sum(x * beta, axis = 1)\n",
    "    p1 = 1. / (1. + np.exp(-logit))\n",
    "\n",
    "    y = stats.bernoulli(p1).rvs()\n",
    "\n",
    "    data = np.column_stack((y, x))\n",
    "    return data, p1"
   ]
  },
  {
   "cell_type": "code",
   "execution_count": 587,
   "metadata": {
    "collapsed": true
   },
   "outputs": [],
   "source": [
    "beta = np.array([1, -1, 0])"
   ]
  },
  {
   "cell_type": "code",
   "execution_count": 596,
   "metadata": {
    "collapsed": false
   },
   "outputs": [],
   "source": [
    "data, p1 = make_data(beta, 1000)"
   ]
  },
  {
   "cell_type": "code",
   "execution_count": 597,
   "metadata": {
    "collapsed": false
   },
   "outputs": [
    {
     "data": {
      "text/plain": [
       "515"
      ]
     },
     "execution_count": 597,
     "metadata": {},
     "output_type": "execute_result"
    }
   ],
   "source": [
    "y = data[:,0]\n",
    "sum(y == 0)"
   ]
  },
  {
   "cell_type": "code",
   "execution_count": 598,
   "metadata": {
    "collapsed": false
   },
   "outputs": [
    {
     "data": {
      "text/plain": [
       "<matplotlib.collections.PathCollection at 0x1133435c0>"
      ]
     },
     "execution_count": 598,
     "metadata": {},
     "output_type": "execute_result"
    },
    {
     "data": {
      "image/png": "[encoded data removed]",
      "text/plain": [
       "<matplotlib.figure.Figure at 0x113431b38>"
      ]
     },
     "metadata": {},
     "output_type": "display_data"
    }
   ],
   "source": [
    "fig, ax = plt.subplots(1, 1, figsize = (7, 7))\n",
    "ax.scatter(data[:,2], p1, lw = 0.05)"
   ]
  },
  {
   "cell_type": "markdown",
   "metadata": {},
   "source": [
    "## Training"
   ]
  },
  {
   "cell_type": "code",
   "execution_count": 621,
   "metadata": {
    "collapsed": false
   },
   "outputs": [],
   "source": [
    "def point_logl(x, beta):\n",
    "    \"\"\"return the log-likelihood for a single data point\"\"\"\n",
    "    y = x[0]\n",
    "    sign = (1 if y == 0 else -1)\n",
    "    return - np.log(1 + np.exp(sign * np.sum(x[1:] * beta)))\n",
    "\n",
    "def update_data_point(x, alpha, beta):\n",
    "    \"\"\"return the gradient ascent update for a single data point\"\"\"\n",
    "    y = x[0]\n",
    "    p1 = np.sum(beta * x[1:])\n",
    "    return alpha * (y - p1) * x[1:]"
   ]
  },
  {
   "cell_type": "code",
   "execution_count": 625,
   "metadata": {
    "collapsed": true
   },
   "outputs": [],
   "source": [
    "# we initialize the estimates for \\beta parameters to\n",
    "# ranom points in the interval (beta_min, beta_min + beta_range)\n",
    "beta_min = -1.5\n",
    "beta_range = 3\n",
    "\n",
    "def logistic_regression(data, alpha = 1e-6, ell = 0.01):\n",
    "    \"\"\"\n",
    "    return an estimate for the logistic regression parameters, along with the\n",
    "    aposteriory probability of the dataset for those parameter values\n",
    "    \"\"\"\n",
    "    dataRDD = sc.parallelize(data)\n",
    "    dataRDD.persist()\n",
    "    \n",
    "    m = data.shape[1] - 1\n",
    "    beta = beta_min + beta_range * np.random.rand(m)\n",
    "    \n",
    "    def app(rdd):\n",
    "        \"\"\"\n",
    "        return the a-posteriory probability for a given rdd for the current\n",
    "        beta parameter values\n",
    "        \"\"\"\n",
    "        return rdd.map(lambda x: point_logl(x, beta)).reduce(lambda x, y: x + y) - \\\n",
    "            ell * np.sum(beta ** 2)\n",
    "    \n",
    "    du = np.inf\n",
    "    apost = app(dataRDD)\n",
    "    for loop in range(10) :\n",
    "        u = dataRDD.map(lambda x: update_data_point(x, alpha, beta)).reduce(lambda x, y: x + y)\n",
    "        beta = beta + u - ell * beta\n",
    "        du = max(abs(u - ell * beta))\n",
    "        apost = app(dataRDD)\n",
    "    return beta, apost   "
   ]
  },
  {
   "cell_type": "code",
   "execution_count": 627,
   "metadata": {
    "collapsed": false
   },
   "outputs": [
    {
     "name": "stdout",
     "output_type": "stream",
     "text": [
      "Round # 1, 2, 3, 4, 5, 6, 7, 8, 9, 10, 11, 12, 13, 14, 15, 16, 17, 18, 19, 20, "
     ]
    }
   ],
   "source": [
    "TRIALS = 20\n",
    "\n",
    "results = []\n",
    "print(\"Round #\", end = \" \")\n",
    "for i in range(TRIALS):\n",
    "    print((i+1), end = \", \")\n",
    "    res = logistic_regression(data)\n",
    "    results.append(res)\n",
    "results = sorted(results, key = lambda x: -x[1])"
   ]
  },
  {
   "cell_type": "code",
   "execution_count": 628,
   "metadata": {
    "collapsed": false
   },
   "outputs": [
    {
     "name": "stdout",
     "output_type": "stream",
     "text": [
      "[-0.31991173 -1.12441453  0.01131151] -486.04053705\n",
      "[ 0.79498767 -0.77870856  0.54306996] -544.757620725\n",
      "[ 1.27032943 -0.43519351  0.19761428] -596.864783774\n",
      "[ 0.50664543 -1.11163139 -0.67633002] -601.660595247\n",
      "[-0.80359684 -0.36382204  0.42423771] -618.322904205\n",
      "[-1.12938849 -1.18323583  0.67618026] -624.992761402\n",
      "[ 0.66969263 -0.26270983 -0.55861011] -694.814456229\n",
      "[-0.77715467 -0.11993915  0.44787435] -744.418895476\n",
      "[-1.12159863  0.01011869 -0.35165771] -982.843572984\n",
      "[ 0.29948806 -0.74058689  1.22555953] -1008.16830779\n",
      "[ 0.17314898  0.08777572 -0.85334254] -1177.3484993\n",
      "[ 0.85253573  0.31911873 -0.00540655] -1188.05161939\n",
      "[ 0.49587142  0.39261414 -0.12401798] -1193.9809825\n",
      "[ 0.65402179  0.23028815 -0.88749186] -1312.49206328\n",
      "[ 1.08541374 -0.22664161  1.06458282] -1374.13777178\n",
      "[-0.7737979   0.47804902  0.60915503] -1444.64157341\n",
      "[-0.30993281  0.80822045 -0.30393083] -1759.80153268\n",
      "[ 0.02112958  0.76302603 -0.64021312] -1801.293199\n",
      "[-0.09892286  0.81482246  0.41752273] -1928.92407576\n",
      "[-0.68912907  0.7882261  -1.16879263] -2210.14235191\n"
     ]
    }
   ],
   "source": [
    "# results = sorted(results, key = lambda x: -x[1])\n",
    "for res in results:\n",
    "    print(*res)"
   ]
  },
  {
   "cell_type": "code",
   "execution_count": 629,
   "metadata": {
    "collapsed": false
   },
   "outputs": [],
   "source": [
    "mybeta = results[0][0]\n",
    "notmybeta = results[0][-1]"
   ]
  },
  {
   "cell_type": "code",
   "execution_count": 630,
   "metadata": {
    "collapsed": false
   },
   "outputs": [
    {
     "data": {
      "text/plain": [
       "<matplotlib.legend.Legend at 0x114163a90>"
      ]
     },
     "execution_count": 630,
     "metadata": {},
     "output_type": "execute_result"
    },
    {
     "data": {
      "image/png": "[encoded data removed]",
      "text/plain": [
       "<matplotlib.figure.Figure at 0x11415de80>"
      ]
     },
     "metadata": {},
     "output_type": "display_data"
    }
   ],
   "source": [
    "fig, ax = plt.subplots(1, 1, figsize = (7, 7))\n",
    "ax.scatter(data[:,2], p1, lw = 0.05, c = \"blue\", label = \"generative model\")\n",
    "logit = np.sum(data[:, 1:] * mybeta, axis = 1)\n",
    "p = 1. / (1. + np.exp(-logit))\n",
    "ax.scatter(data[:,2], p, lw = 0.05, c = \"red\", label = \"discovered model\")\n",
    "logit = np.sum(data[:, 1:] * notmybeta, axis = 1)\n",
    "p = 1. / (1. + np.exp(-logit))\n",
    "ax.scatter(data[:,2], p, lw = 0.05, c = \"green\", label = \"discarded model\")\n",
    "ax.legend()"
   ]
  },
  {
   "cell_type": "code",
   "execution_count": null,
   "metadata": {
    "collapsed": true
   },
   "outputs": [],
   "source": []
  }
 ],
 "metadata": {
  "kernelspec": {
   "display_name": "Python 3",
   "language": "python",
   "name": "python3"
  },
  "language_info": {
   "codemirror_mode": {
    "name": "ipython",
    "version": 3
   },
   "file_extension": ".py",
   "mimetype": "text/x-python",
   "name": "python",
   "nbconvert_exporter": "python",
   "pygments_lexer": "ipython3",
   "version": "3.5.1"
  }
 },
 "nbformat": 4,
 "nbformat_minor": 0
}
