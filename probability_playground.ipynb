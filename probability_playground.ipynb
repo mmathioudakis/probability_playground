{
 "cells": [
  {
   "cell_type": "code",
   "execution_count": 1,
   "metadata": {
    "collapsed": true
   },
   "outputs": [],
   "source": [
    "import numpy as np\n",
    "import matplotlib.pyplot as plt\n",
    "import pandas as pd"
   ]
  },
  {
   "cell_type": "code",
   "execution_count": 2,
   "metadata": {
    "collapsed": true
   },
   "outputs": [],
   "source": [
    "%matplotlib inline"
   ]
  },
  {
   "cell_type": "code",
   "execution_count": 3,
   "metadata": {
    "collapsed": true
   },
   "outputs": [],
   "source": [
    "def select_other(excluded_elements, all_elements):\n",
    "    \"\"\"\n",
    "    excluded_elements, all_elements: two sets\n",
    "    Return one element of (all_elements - excluded_elements) at random\n",
    "    \"\"\"\n",
    "    remaining_elements = all_elements - excluded_elements\n",
    "    selected_element = np.random.choice(list(remaining_elements), 1)[0]\n",
    "    return selected_element  "
   ]
  },
  {
   "cell_type": "markdown",
   "metadata": {},
   "source": [
    "# Monty Hall"
   ]
  },
  {
   "cell_type": "markdown",
   "metadata": {},
   "source": [
    "## Problem"
   ]
  },
  {
   "cell_type": "markdown",
   "metadata": {},
   "source": [
    "The original problem description, as it appears on [Marilyn vos Savant's website](http://marilynvossavant.com/game-show-problem/):\n",
    "\n",
    "> Suppose you’re on a game show, and you’re given the choice of three doors. Behind one door is a car, behind the others, goats. You pick a door, say \\#1, and the host, who knows what’s behind the doors, opens another door, say \\#3, which has a goat. He says to you, \"Do you want to pick door \\#2?\" Is it to your advantage to switch your choice of doors?\n",
    "\n",
    "The answer is 'yes'. For more information on the problem, you can see its entry on [Wikipedia](https://en.wikipedia.org/wiki/Monty_Hall_problem)."
   ]
  },
  {
   "cell_type": "markdown",
   "metadata": {},
   "source": [
    "## Simulation"
   ]
  },
  {
   "cell_type": "code",
   "execution_count": 4,
   "metadata": {
    "collapsed": false
   },
   "outputs": [
    {
     "data": {
      "image/png": "[encoded data removed]",
      "text/plain": [
       "<matplotlib.figure.Figure at 0x10759d828>"
      ]
     },
     "metadata": {},
     "output_type": "display_data"
    }
   ],
   "source": [
    "N = 100000 # we repeat the simulation N times\n",
    "\n",
    "# there are three doors, numbered #1, #2, #3\n",
    "doors = {1, 2, 3}\n",
    "# exactly one of them contains the car\n",
    "door_with_car = np.random.choice(list(doors), N)\n",
    "\n",
    "# player makes a first guess about the door that contains the car\n",
    "first_guess = np.random.choice(list(doors), N)\n",
    "\n",
    "# host opens a door that does not contain the car\n",
    "# and is different than player's guess\n",
    "revealed_door = [select_other({first_guess[pos], door_with_car[pos]}, doors) for pos in range(N)]\n",
    "\n",
    "# player follows one of two strategies:\n",
    "# either sticks to first guess\n",
    "second_guess_A = first_guess\n",
    "# or switches to the remaining door\n",
    "# (other than first guess and revealed door)\n",
    "second_guess_B = [select_other({first_guess[pos], revealed_door[pos]}, doors) for pos in range(N)]\n",
    "\n",
    "# calculate the success rate for each strategy\n",
    "success_rate_A = sum(second_guess_A == door_with_car) / N\n",
    "success_rate_B = sum(second_guess_B == door_with_car) / N\n",
    "\n",
    "fig, ax = plt.subplots(figsize = (8, 5))\n",
    "ax.set(xlim = (-1, 2), xticks = [0, 1], yticks = [100*success_rate_A, 100*success_rate_B, 100], ylim = (0, 100))\n",
    "ax.set_title(\"Success rate (%)\", size = 20)\n",
    "ax.set_xticklabels([\"A\", \"B\"], size = 18)\n",
    "ax.set_xlabel(\"Strategy\", size = 19)\n",
    "ax.set_yticklabels([\"{:.1f}\".format(100*success_rate_A), \"{:.1f}\".format(100*success_rate_B), \"100\"], size = 16)\n",
    "_tmp = ax.bar([0], [100*success_rate_A], width = 0.5, align = \"center\", color = \"blue\")\n",
    "_tmp = ax.bar([1], [100*success_rate_B], width = 0.5, align = \"center\", color = \"gold\")"
   ]
  },
  {
   "cell_type": "markdown",
   "metadata": {},
   "source": [
    "# Bertrand's Boxes\n",
    "From [Wikipedia](https://en.wikipedia.org/wiki/Bertrand%27s_box_paradox):\n",
    "> There are three boxes, each with one drawer on each of two sides. Each drawer contains a coin. One box has a gold coin on each side (GG), one a silver coin on each side (SS), and the other a gold coin on one side and a silver coin on the other (GS). A box is chosen at random, a random drawer is opened, and a gold coin is found inside it. What is the chance of the coin on the other side being gold?\n",
    "\n",
    "One might rush to answer '1/2' - but the answer is '2/3'."
   ]
  },
  {
   "cell_type": "code",
   "execution_count": 21,
   "metadata": {
    "collapsed": false
   },
   "outputs": [
    {
     "name": "stdout",
     "output_type": "stream",
     "text": [
      "Given that we found a Gold coin in the opened drawer,\n",
      "the chances to have a Gold coin in the other drawer, too,\n",
      "are ~66.6%.\n"
     ]
    }
   ],
   "source": [
    "N = 200000 # we repeat the simulation N times\n",
    "\n",
    "# there are two kinds of coins involved\n",
    "GOLD = 1; SILVER = 0\n",
    "\n",
    "# there are three boxes, each with two drawers\n",
    "# each drawer contains one coin\n",
    "box_GG = [GOLD, GOLD]\n",
    "box_GS = [GOLD, SILVER]\n",
    "box_SS = [SILVER, SILVER]\n",
    "\n",
    "boxes = [box_GG, box_GS, box_SS]\n",
    "\n",
    "def select_drawer(boxes):\n",
    "    \"\"\" randomly select one drawer from one box \"\"\"\n",
    "    # select one box at random\n",
    "    random_choice = np.random.choice(len(boxes))\n",
    "    chosen_box = boxes[random_choice]\n",
    "    \n",
    "    # open one of its two drawers\n",
    "    opened_drawer, other_drawer = np.random.permutation(chosen_box)\n",
    "    \n",
    "    return opened_drawer, other_drawer\n",
    "\n",
    "# simulate selection of drawer N times\n",
    "selection = [select_drawer(boxes) for i in range(N)]\n",
    "\n",
    "opened_drawer = [box[0] for box in selection]\n",
    "other_drawer  = [box[1] for box in selection]\n",
    "\n",
    "# mark the cases where we found a gold coin in opened drawer...\n",
    "found_gold = [coin == GOLD for coin in opened_drawer]\n",
    "# and among those cases,\n",
    "# mark the ones where there was a gold coin in the other drawer of the same box\n",
    "found_gold_also_in_other_drawer = [other_drawer[i] == GOLD for i, f in enumerate(found_gold) if f == True]\n",
    "\n",
    "# the number of cases we found a gold coin...\n",
    "num_found_gold = sum(found_gold)\n",
    "# and among those cases,\n",
    "# the number of cases there was a gold coin in the other drawer too\n",
    "num_found_gold_in_other_drawer = sum(found_gold_also_in_other_drawer)\n",
    "\n",
    "ratio = num_found_gold_in_other_drawer / num_found_gold \n",
    "\n",
    "print(\"Given that we found a Gold coin in the opened drawer,\\n\"\n",
    "      \"the chances to have a Gold coin in the other drawer, too,\\n\"\n",
    "      \"are ~{0:.1f}%.\".format(100*ratio))\n"
   ]
  },
  {
   "cell_type": "markdown",
   "metadata": {},
   "source": [
    "# Three Prisoners Problem\n",
    "[Wikipedia](https://en.wikipedia.org/wiki/Three_Prisoners_problem)"
   ]
  },
  {
   "cell_type": "markdown",
   "metadata": {},
   "source": [
    "# Bertrand's Paradox\n",
    "[Wikipedia][1]\n",
    "\n",
    "[1]: https://en.wikipedia.org/wiki/Bertrand_paradox_(probability)"
   ]
  },
  {
   "cell_type": "code",
   "execution_count": null,
   "metadata": {
    "collapsed": true
   },
   "outputs": [],
   "source": []
  }
 ],
 "metadata": {
  "kernelspec": {
   "display_name": "Python 3",
   "language": "python",
   "name": "python3"
  },
  "language_info": {
   "codemirror_mode": {
    "name": "ipython",
    "version": 3
   },
   "file_extension": ".py",
   "mimetype": "text/x-python",
   "name": "python",
   "nbconvert_exporter": "python",
   "pygments_lexer": "ipython3",
   "version": "3.4.3"
  }
 },
 "nbformat": 4,
 "nbformat_minor": 0
}
